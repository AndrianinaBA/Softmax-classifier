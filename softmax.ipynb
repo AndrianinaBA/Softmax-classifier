{
 "cells": [
  {
   "cell_type": "code",
   "execution_count": 1,
   "id": "48ad74d2-8afa-4ec7-8f82-0f59848430ef",
   "metadata": {},
   "outputs": [],
   "source": [
    "import numpy as np"
   ]
  },
  {
   "cell_type": "code",
   "execution_count": 117,
   "id": "193f2354-f0bd-48da-9ef1-0cba31423ef2",
   "metadata": {},
   "outputs": [],
   "source": [
    "def softmax(z):\n",
    "    \"\"\"z is a numpy array of a list(maybe)\"\"\"\n",
    "    exp_z = np.exp(z)\n",
    "    return exp_z/np.sum(exp_z)\n",
    "\n",
    "def cross_entropy():\n",
    "    pass\n",
    "\n",
    "def d_loss_dt(arr,j_th,class_number):\n",
    "    #print(arr.shape)\n",
    "    #print(j_th,class_number)\n",
    "    #arr = np.array(arr)\n",
    "    res = 0\n",
    "    if j_th == class_number :\n",
    "        res = arr[class_number] - 1 \n",
    "    else:\n",
    "        res = arr[j_th]\n",
    "    return res"
   ]
  },
  {
   "cell_type": "code",
   "execution_count": 7,
   "id": "66819dba-4f38-4cbe-aca2-4cf20dfdc8b4",
   "metadata": {},
   "outputs": [
    {
     "data": {
      "text/plain": [
       "array([1.3258127e-24, 1.6701422e-05, 0.0000000e+00, 0.0000000e+00,\n",
       "       9.9998331e-01], dtype=float32)"
      ]
     },
     "execution_count": 7,
     "metadata": {},
     "output_type": "execute_result"
    }
   ],
   "source": [
    "x = np.array([1.02,45,-56,-70.4,56],dtype='float32')\n",
    "softmax(x)"
   ]
  },
  {
   "cell_type": "code",
   "execution_count": 11,
   "id": "763991c6-f8b4-405f-ba98-21e404c57c5f",
   "metadata": {},
   "outputs": [
    {
     "data": {
      "text/plain": [
       "(5,)"
      ]
     },
     "execution_count": 11,
     "metadata": {},
     "output_type": "execute_result"
    }
   ],
   "source": [
    "x.shape"
   ]
  },
  {
   "cell_type": "code",
   "execution_count": 118,
   "id": "dbc01493-d472-4dc8-9a6d-688cc24180e5",
   "metadata": {},
   "outputs": [],
   "source": [
    "class SoftmaxCLassifier():\n",
    "    def __init__(self,num_classes,num_epochs=1,num_iter=1000,lr=0.001):\n",
    "        self.weight = None\n",
    "        self.bias = None\n",
    "        self.num_classes = num_classes\n",
    "        self.lr = lr\n",
    "        self.num_epochs = num_epochs\n",
    "        self.num_feature = None\n",
    "        self.num_samples = None\n",
    "        self.num_iter = num_iter\n",
    "\n",
    "    def parametrize(self,X):\n",
    "        self.num_samples,self.num_feature = X.shape\n",
    "        self.weight = np.random.rand(self.num_classes,self.num_feature)\n",
    "        self.bias = np.random.rand(self.num_classes)\n",
    "\n",
    "    def train(self,X,y):        \n",
    "        for epoch in range(self.num_epochs): \n",
    "            for _ in range(self.num_iter): \n",
    "                for j in range(self.num_samples):\n",
    "                    pred = np.dot(self.weight,X[j]) + self.bias\n",
    "                    pred_hat = softmax(pred)\n",
    "                \n",
    "                    for k in range(self.num_classes):\n",
    "                        self.weight[k] -= self.lr * d_loss_dt(pred_hat,k,y[j]) * X[j]\n",
    "                        self.bias[k] -= self.lr * d_loss_dt(pred_hat,k,y[j])\n",
    "\n",
    "    def predict(self,X):\n",
    "        lin = np.dot(self.weight,X) + self.bias\n",
    "        soft = softmax(lin)\n",
    "        return np.argmax(soft)"
   ]
  },
  {
   "cell_type": "code",
   "execution_count": 147,
   "id": "74cfee63-d2bd-47f0-8481-99a6ede2d641",
   "metadata": {},
   "outputs": [],
   "source": [
    "X = np.array([[1,0,0],[2,0,0],[0,5,0],[0,1,0],[0,0,1],[0,0,2],[0,0,89],[0,2,0]],dtype='float32')\n",
    "y = np.array([0,0,1,1,2,2,2,1])"
   ]
  },
  {
   "cell_type": "code",
   "execution_count": 148,
   "id": "e71d8eba-d5ba-4991-b3ea-9a9807f99a0c",
   "metadata": {},
   "outputs": [],
   "source": [
    "clf = SoftmaxCLassifier(3)"
   ]
  },
  {
   "cell_type": "code",
   "execution_count": 149,
   "id": "42d06f0b-ad82-47b7-9e2a-a4ecba0ba11f",
   "metadata": {},
   "outputs": [],
   "source": [
    "clf.parametrize(X)"
   ]
  },
  {
   "cell_type": "code",
   "execution_count": 150,
   "id": "ebf51c28-209e-4cb5-b0e1-592289790f9c",
   "metadata": {},
   "outputs": [],
   "source": [
    "clf.train(X,y)"
   ]
  },
  {
   "cell_type": "code",
   "execution_count": 155,
   "id": "4a680f94-c803-4c75-8e75-00fbe7bbb245",
   "metadata": {},
   "outputs": [
    {
     "data": {
      "text/plain": [
       "np.int64(1)"
      ]
     },
     "execution_count": 155,
     "metadata": {},
     "output_type": "execute_result"
    }
   ],
   "source": [
    "m = np.array([0,20,0])\n",
    "clf.predict(m)"
   ]
  },
  {
   "cell_type": "code",
   "execution_count": 152,
   "id": "c80811c7-fbbc-46dd-b7a9-80068e0e37e5",
   "metadata": {},
   "outputs": [
    {
     "name": "stdout",
     "output_type": "stream",
     "text": [
      "[[ 1.28347039 -0.24854933 -0.04878021]\n",
      " [-0.0449028   1.48193405 -0.09819433]\n",
      " [-0.22217131  0.11230584  1.74573419]]\n"
     ]
    }
   ],
   "source": [
    "print(clf.weight)"
   ]
  },
  {
   "cell_type": "code",
   "execution_count": 153,
   "id": "a18f9cae-88b2-4fa9-9c97-327e6c2a3431",
   "metadata": {},
   "outputs": [
    {
     "name": "stdout",
     "output_type": "stream",
     "text": [
      "[0.4415352  0.36371202 0.09068946]\n"
     ]
    }
   ],
   "source": [
    "print(clf.bias)"
   ]
  },
  {
   "cell_type": "code",
   "execution_count": null,
   "id": "61d80ba8-2428-4cab-be58-84ed591e7f8a",
   "metadata": {},
   "outputs": [],
   "source": []
  }
 ],
 "metadata": {
  "kernelspec": {
   "display_name": "Python 3 (ipykernel)",
   "language": "python",
   "name": "python3"
  },
  "language_info": {
   "codemirror_mode": {
    "name": "ipython",
    "version": 3
   },
   "file_extension": ".py",
   "mimetype": "text/x-python",
   "name": "python",
   "nbconvert_exporter": "python",
   "pygments_lexer": "ipython3",
   "version": "3.12.7"
  }
 },
 "nbformat": 4,
 "nbformat_minor": 5
}
